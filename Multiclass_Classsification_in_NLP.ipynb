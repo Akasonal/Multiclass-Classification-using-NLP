{
  "nbformat": 4,
  "nbformat_minor": 0,
  "metadata": {
    "colab": {
      "name": "Multiclass Classsification in NLP",
      "provenance": [],
      "authorship_tag": "ABX9TyNJQtrAyr0ijDcz1fMJPfuV",
      "include_colab_link": true
    },
    "kernelspec": {
      "name": "python3",
      "display_name": "Python 3"
    }
  },
  "cells": [
    {
      "cell_type": "markdown",
      "metadata": {
        "id": "view-in-github",
        "colab_type": "text"
      },
      "source": [
        "<a href=\"https://colab.research.google.com/github/Akasonal/Multiclass-Classification-using-NLP/blob/main/Multiclass_Classsification_in_NLP.ipynb\" target=\"_parent\"><img src=\"https://colab.research.google.com/assets/colab-badge.svg\" alt=\"Open In Colab\"/></a>"
      ]
    },
    {
      "cell_type": "code",
      "metadata": {
        "colab": {
          "base_uri": "https://localhost:8080/"
        },
        "id": "R8IvFAFcLw4V",
        "outputId": "8c950f27-365a-4423-bcbe-2546af152ec0"
      },
      "source": [
        "import re\r\n",
        "import csv\r\n",
        "import tensorflow.keras as keras\r\n",
        "import nltk\r\n",
        "from nltk.corpus import stopwords\r\n",
        "nltk.download(\"stopwords\")"
      ],
      "execution_count": 1,
      "outputs": [
        {
          "output_type": "stream",
          "text": [
            "[nltk_data] Downloading package stopwords to /root/nltk_data...\n",
            "[nltk_data]   Package stopwords is already up-to-date!\n"
          ],
          "name": "stdout"
        },
        {
          "output_type": "execute_result",
          "data": {
            "text/plain": [
              "True"
            ]
          },
          "metadata": {
            "tags": []
          },
          "execution_count": 1
        }
      ]
    },
    {
      "cell_type": "code",
      "metadata": {
        "id": "eADBnsF8MpSp"
      },
      "source": [
        "from keras.preprocessing.text import Tokenizer\r\n",
        "from keras.preprocessing.sequence import pad_sequences\r\n",
        "from keras.models import Sequential\r\n",
        "from keras.layers import Dense,Embedding,Bidirectional,LSTM,Dropout"
      ],
      "execution_count": 2,
      "outputs": []
    },
    {
      "cell_type": "code",
      "metadata": {
        "id": "CSC5nIZGNNJL"
      },
      "source": [
        "#Reading the textual data from csv\r\n",
        "labels=[]\r\n",
        "articles=[]\r\n",
        "with open(\"bbc-text.csv\",\"r\") as f:\r\n",
        "  text=csv.reader(f,delimiter=\",\")\r\n",
        "  next(text) \r\n",
        "  for rows in text:\r\n",
        "    labels.append(rows[0])\r\n",
        "    articles.append(rows[1])"
      ],
      "execution_count": 3,
      "outputs": []
    },
    {
      "cell_type": "markdown",
      "metadata": {
        "id": "z-YVv4ghOe6q"
      },
      "source": [
        "## Text Preprocessing"
      ]
    },
    {
      "cell_type": "code",
      "metadata": {
        "colab": {
          "base_uri": "https://localhost:8080/"
        },
        "id": "-wkOGhJUOWN0",
        "outputId": "71459607-5602-445b-de58-634ba71dde8e"
      },
      "source": [
        "len(articles)"
      ],
      "execution_count": 4,
      "outputs": [
        {
          "output_type": "execute_result",
          "data": {
            "text/plain": [
              "2225"
            ]
          },
          "metadata": {
            "tags": []
          },
          "execution_count": 4
        }
      ]
    },
    {
      "cell_type": "code",
      "metadata": {
        "id": "21cqC-vE9bkv",
        "outputId": "06e0d912-123d-4953-9bc9-f5bb975181df",
        "colab": {
          "base_uri": "https://localhost:8080/"
        }
      },
      "source": [
        "len(labels)"
      ],
      "execution_count": 5,
      "outputs": [
        {
          "output_type": "execute_result",
          "data": {
            "text/plain": [
              "2225"
            ]
          },
          "metadata": {
            "tags": []
          },
          "execution_count": 5
        }
      ]
    },
    {
      "cell_type": "code",
      "metadata": {
        "id": "iFT7iMhJootc"
      },
      "source": [
        "#removing stop words and other unwanted symbol present in text\r\n",
        "filtered_sent=[]\r\n",
        "for i in range(len(articles)):\r\n",
        "  cleaned=re.sub(r\"[^a-zA-Z]\",\" \",articles[i])   #taking only those words having alphabetical words\r\n",
        "  cleaned=cleaned.split()                        #spliting the sentence into list of words\r\n",
        "  cleaned=[word for word in cleaned if not word in set(stopwords.words(\"english\")) if len(word)>2]  #removing stop words and taking those words having length greater than 2\r\n",
        "  cleaned=\" \".join(cleaned)  #joining list of sentence\r\n",
        "  filtered_sent.append(cleaned)  #appending list of sentence into a single list"
      ],
      "execution_count": 6,
      "outputs": []
    },
    {
      "cell_type": "code",
      "metadata": {
        "colab": {
          "base_uri": "https://localhost:8080/"
        },
        "id": "_2S7WCG9qiGc",
        "outputId": "9d8586d5-2770-4b69-eee7-1518a1f6acc9"
      },
      "source": [
        "filtered_sent[:10]   #printing text upto 10th index"
      ],
      "execution_count": 7,
      "outputs": [
        {
          "output_type": "execute_result",
          "data": {
            "text/plain": [
              "['future hands viewers home theatre systems plasma high definition tvs digital video recorders moving living room way people watch radically different five years time according expert panel gathered annual consumer electronics show las vegas discuss new technologies impact one favourite pastimes leading trend programmes content delivered viewers via home networks cable satellite telecoms companies broadband service providers front rooms portable devices one talked technologies ces digital personal video recorders dvr pvr set top boxes like tivo sky system allow people record store play pause forward wind programmes want essentially technology allows much personalised also built high definition sets big business japan slower take europe lack high definition programming people forward wind adverts also forget abiding network channel schedules putting together carte entertainment networks cable satellite companies worried means terms advertising revenues well brand identity viewer loyalty channels although leads technology moment also concern raised europe particularly growing uptake services like sky happens today see nine months years time adam hume bbc broadcast futurologist told bbc news website likes bbc issues lost advertising revenue yet pressing issue moment commercial broadcasters brand loyalty important everyone talking content brands rather network brands said tim hanlon brand communications firm starcom mediavest reality broadband connections anybody producer content added challenge hard promote programme much choice means said stacey jolna senior vice president guide group way people find content want watch simplified viewers means networks terms channels could take leaf google book search engine future instead scheduler help people find want watch kind channel model might work younger ipod generation used taking control gadgets play might suit everyone panel recognised older generations comfortable familiar schedules channel brands know getting perhaps want much choice put hands hanlon suggested end kids diapers pushing buttons already everything possible available said hanlon ultimately consumer tell market want new gadgets technologies showcased ces many enhancing watching experience high definition sets everywhere many new models lcd liquid crystal display tvs launched dvr capability built instead external boxes one example launched show humax inch lcd hour tivo dvr dvd recorder one biggest satellite companies directtv even launched branded dvr show hours recording capability instant replay search function set pause rewind hours microsoft chief bill gates announced pre show keynote speech partnership tivo called tivotogo means people play recorded programmes windows pcs mobile devices reflect increasing trend freeing multimedia people watch want want',\n",
              " 'worldcom boss left books alone former worldcom boss bernie ebbers accused overseeing fraud never made accounting decisions witness told jurors david myers made comments questioning defence lawyers arguing ebbers responsible worldcom problems phone company collapsed prosecutors claim losses hidden protect firm shares myers already pleaded guilty fraud assisting prosecutors monday defence lawyer reid weingarten tried distance client allegations cross examination asked myers ever knew ebbers make accounting decision aware myers replied ever know ebbers make accounting entry worldcom books weingarten pressed replied witness myers admitted ordered false accounting entries request former worldcom chief financial officer scott sullivan defence lawyers trying paint sullivan admitted fraud testify later trial mastermind behind worldcom accounting house cards ebbers team meanwhile looking portray affable boss admission graduate economist whatever abilities ebbers transformed worldcom relative unknown telecoms giant investor darling late worldcom problems mounted however competition increased telecoms boom petered firm finally collapsed shareholders lost workers lost jobs ebbers trial expected last two months found guilty former ceo faces substantial jail sentence firmly declared innocence',\n",
              " 'tigers wary farrell gamble leicester say rushed making bid andy farrell great britain rugby league captain decide switch codes anybody else involved process still way away going next stage tigers boss john wells told bbc radio leicester moment still lot unknowns andy farrell least medical situation whoever take going take big big gamble farrell persistent knee problems operation knee five weeks ago expected another three months leicester saracens believed head list rugby union clubs interested signing farrell decides move man game move across union wells believes would better playing backs least initially sure could make step league union involved centre said wells think england would prefer progress position back row make use rugby league skills within forwards jury whether cross divide club balance struck cost gamble option bringing ready made replacement',\n",
              " 'yeading face newcastle cup premiership side newcastle united face trip ryman premier league leaders yeading cup third round game arguably highlight draw potential money spinner non league yeading beat slough second round conference side exeter city knocked doncaster saturday travel old trafford meet holders manchester united january arsenal drawn home stoke chelsea play host scunthorpe non league side draw hinckley united held brentford goalless draw sunday meet league one leaders luton win replay martin allen team griffin park number premiership teams face difficult away games championship sides weekend january third placed everton visit plymouth liverpool travel burnley crystal palace sunderland fulham face carling cup semi finalists watford bolton meet ipswich aston villa drawn sheffield united premiership strugglers norwich blackburn west brom away west ham cardiff preston north end respectively southampton visit northampton already beaten league two side carling cup earlier season middlesbrough drawn away either swindon notts county spurs entertain brighton white hart lane arsenal stoke swindon notts middlesbrough man utd exeter plymouth everton leicester blackpool derby wigan sunderland crystal palace wolves millwall yeading newcastle hull colchester tottenham brighton reading stockport swansea birmingham leeds hartlepool boston milton keynes dons peterborough oldham man city chelsea scunthorpe cardiff blackburn charlton rochdale west ham norwich sheff utd aston villa preston west brom rotherham yeovil burnley liverpool bournemouth chester coventry crewe watford fulham ipswich bolton portsmouth gillingham northampton southampton qpr nottm forest luton hinckley brentford matches played weekend january',\n",
              " 'ocean twelve raids box office ocean twelve crime caper sequel starring george clooney brad pitt julia roberts gone straight number one box office chart took weekend ticket sales according studio estimates sequel follows master criminals try pull three major heists across europe knocked last week number one national treasure third place wesley snipes blade trinity second taking rounding top five animated fable polar express starring tom hanks festive comedy christmas kranks ocean twelve box office triumph marks fourth biggest opening december release three films lord rings trilogy sequel narrowly beat predecessor ocean eleven took opening weekend total remake film starring frank sinatra rat pack ocean eleven directed oscar winning director steven soderbergh soderbergh returns direct hit sequel reunites clooney pitt roberts matt damon andy garcia elliott gould catherine zeta jones joins star cast fun good holiday movie said dan fellman president distribution warner bros however critics less complimentary project los angeles times labelling dispiriting vanity project milder review new york times dubbed sequel unabashedly trivial',\n",
              " 'howard hits back mongrel jibe michael howard said claim peter hain tory leader acting like attack mongrel shows labour rattled opposition upbeat speech party spring conference brighton said labour campaigning tactics proved tories hitting home hain made claim tory tactics anti terror bill debate something tells someone somewhere little bit rattled howard said hain leader commons told bbc radio four today programme howard stance government anti terrorism legislation putting country risk accused tory leader behaving like attack mongrel playing opposition opposition sake howard told party labour would anything say anything claim anything cling office costs far year compared fagin shylock flying pig morning peter hain even called mongrel know something tells someone somewhere little bit rattled environment secretary margaret beckett rejected howard comment telling radio programme labour rattled real duty try get people focus michael howard record proposals trying put forward country also many examples seeing believe really poor judgement behalf howard said tory policies schools taxes immigration crime striking chord voters since beginning year election year making political weather told party conference howard denied playing politics raising case margaret dixon whose operation cancelled seven times grabbed headlines party two weeks ago hit back labour claims used mrs dixon human shield human shield blair human howard said party plans immigration quotas also focus much media coverage racist common sense pledged cleaner hospitals better school discipline promise get rid political correctness national curriculum give everyone chance decent state education come ordinary family teenage michael howard applying cambridge today gordon brown would love stressed party commitment cut taxes red tape increase basic state pension line earnings finished personal appeal party activists win next election one day able tell children grandchildren tell mine bit played part helped win famous election election transformed country better labour election ordinator alan milburn said michael howard speech today confirms always said strategy opportunism forward vision country reference appearance howard family conference stage milburn said michael howard perfectly entitled pose family today hard working families across britain damaged plan cut public spending',\n",
              " 'blair prepares name poll date tony blair likely name may election day parliament returns easter break bbc political editor learned andrew marr says blair ask queen april dissolve parliament end week blair far resisted calls name day parties stepped campaigning recently downing street would drawn claim saying election timing matter prime minister number spokeswoman would say announce election wants announce election move signal frantic week westminster government likely try get key legislation parliament government needs finance bill covering budget plans passed commons closes business end session april also seek push serious organised crime bill cards bill marr said wednesday today programme almost nobody senior level inside government parliament expect election called april soon commons back short easter recess tony blair whips palace asks queen dissolve parliament going labour government officially june hold general election recent years governments favoured four year terms',\n",
              " 'henman hopes ended dubai third seed tim henman slumped straight sets defeat rain interrupted dubai open quarter final ivan ljubicic croatian eighth seed booked place last four victory british number one henman looked course level match going second set progress halted rain intervened ljubicic hit back break seal fourth straight win henman earlier day spanish fifth seed tommy robredo secured semi final place beat nicolas kiefer germany afterwards henman left cursing weather umpire seven breaks rain match incredibly frustrating henman said raining umpire take control kept telling play till end game raining come score irrelevant frustrating happy form expect desert',\n",
              " 'wilkinson fit face edinburgh england captain jonny wilkinson make long awaited return injury edinburgh saturday wilkinson played since injuring bicep october took part full contact training newcastle falcons wednesday year old fly half start saturday heineken cup match murrayfield bench newcastle director rugby rob andrew said fine hope get game stage year old missed england autumn internationals aggravating haematoma upper right arm saracens subsequently replaced england captain full back jason robinson sale charlie hodgson took number shirt internationals canada south africa australia wilkinson year disrupted injury muscle problem followed eight months sidelines shoulder injury sustained world cup final',\n",
              " 'last star wars children sixth final star wars movie may suitable young children film maker george lucas said told show minutes revenge sith would darkest violent series think would take five six year old told cbs programme aired sunday lucas predicted film would get rating advising parents scenes may unsuitable opens may said expected film would classified roughly equivalent british rating five previous star wars films carried less restrictive parental guidance ratings passed suitable exception attack clones got rating revenge sith third prequel original star wars film chronicles transformation heroic anakin skywalker evil darth vader travels hell like planet composed erupting volcanoes molten lava going watch make pact devil lucas said film much dark emotional much tragedy']"
            ]
          },
          "metadata": {
            "tags": []
          },
          "execution_count": 7
        }
      ]
    },
    {
      "cell_type": "code",
      "metadata": {
        "colab": {
          "base_uri": "https://localhost:8080/"
        },
        "id": "zkGZN0xBpCIw",
        "outputId": "460dad68-389f-43f0-f898-b0f2e9938221"
      },
      "source": [
        "len(filtered_sent)   #len of the text after text preprocessing steps"
      ],
      "execution_count": 8,
      "outputs": [
        {
          "output_type": "execute_result",
          "data": {
            "text/plain": [
              "2225"
            ]
          },
          "metadata": {
            "tags": []
          },
          "execution_count": 8
        }
      ]
    },
    {
      "cell_type": "markdown",
      "metadata": {
        "id": "wH1kJer8rruh"
      },
      "source": [
        "#### splitting the dataset into train and test set and encoding text into numbers because machine cannot read numerical variables "
      ]
    },
    {
      "cell_type": "code",
      "metadata": {
        "id": "UU8l7mDyrndR"
      },
      "source": [
        "#initializing hyperparameter\r\n",
        "vocab_size=5000 #tokenizing the textual data into numerical for first 10000 randomly occured word\r\n",
        "oov_token=\"<oov>\"  #Assignment for all those word which does not comes in vocabulary of 10000 words\r\n",
        "len_sent=800     #as itis hyperparameter hence it depends upon you what should be the length of word\r\n",
        "len_training=0.8  #percentage of data used for training of independent and dependent variable\r\n",
        "train_size1=int(len(filtered_sent)*len_training)  #setting the size of training data\r\n",
        "train_size2=int(len(labels)*len_training)\r\n",
        "X_train=filtered_sent[0:train_size1]\r\n",
        "X_test=filtered_sent[train_size1:]\r\n",
        "Y_train=labels[0:train_size2]\r\n",
        "Y_test=labels[train_size2:]"
      ],
      "execution_count": 9,
      "outputs": []
    },
    {
      "cell_type": "code",
      "metadata": {
        "colab": {
          "base_uri": "https://localhost:8080/"
        },
        "id": "-SkLTaD312cb",
        "outputId": "07676a79-a44c-4fd5-bc68-dd1890bfc5d7"
      },
      "source": [
        "print(len(X_train))\r\n",
        "print(len(X_test))\r\n",
        "print(len(Y_train))\r\n",
        "print(len(Y_test))"
      ],
      "execution_count": 10,
      "outputs": [
        {
          "output_type": "stream",
          "text": [
            "1780\n",
            "445\n",
            "1780\n",
            "445\n"
          ],
          "name": "stdout"
        }
      ]
    },
    {
      "cell_type": "code",
      "metadata": {
        "colab": {
          "base_uri": "https://localhost:8080/"
        },
        "id": "Y8KhUcPcbrCr",
        "outputId": "01a8ec80-ae5a-418c-ebf8-c3c17949a825"
      },
      "source": [
        "set(Y_train)"
      ],
      "execution_count": 11,
      "outputs": [
        {
          "output_type": "execute_result",
          "data": {
            "text/plain": [
              "{'business', 'entertainment', 'politics', 'sport', 'tech'}"
            ]
          },
          "metadata": {
            "tags": []
          },
          "execution_count": 11
        }
      ]
    },
    {
      "cell_type": "code",
      "metadata": {
        "colab": {
          "base_uri": "https://localhost:8080/",
          "height": 160
        },
        "id": "q_yoNt5o5GW4",
        "outputId": "adbc87d6-29eb-43d6-a95d-718af31d8319"
      },
      "source": [
        "X_train[0]"
      ],
      "execution_count": 12,
      "outputs": [
        {
          "output_type": "execute_result",
          "data": {
            "application/vnd.google.colaboratory.intrinsic+json": {
              "type": "string"
            },
            "text/plain": [
              "'future hands viewers home theatre systems plasma high definition tvs digital video recorders moving living room way people watch radically different five years time according expert panel gathered annual consumer electronics show las vegas discuss new technologies impact one favourite pastimes leading trend programmes content delivered viewers via home networks cable satellite telecoms companies broadband service providers front rooms portable devices one talked technologies ces digital personal video recorders dvr pvr set top boxes like tivo sky system allow people record store play pause forward wind programmes want essentially technology allows much personalised also built high definition sets big business japan slower take europe lack high definition programming people forward wind adverts also forget abiding network channel schedules putting together carte entertainment networks cable satellite companies worried means terms advertising revenues well brand identity viewer loyalty channels although leads technology moment also concern raised europe particularly growing uptake services like sky happens today see nine months years time adam hume bbc broadcast futurologist told bbc news website likes bbc issues lost advertising revenue yet pressing issue moment commercial broadcasters brand loyalty important everyone talking content brands rather network brands said tim hanlon brand communications firm starcom mediavest reality broadband connections anybody producer content added challenge hard promote programme much choice means said stacey jolna senior vice president guide group way people find content want watch simplified viewers means networks terms channels could take leaf google book search engine future instead scheduler help people find want watch kind channel model might work younger ipod generation used taking control gadgets play might suit everyone panel recognised older generations comfortable familiar schedules channel brands know getting perhaps want much choice put hands hanlon suggested end kids diapers pushing buttons already everything possible available said hanlon ultimately consumer tell market want new gadgets technologies showcased ces many enhancing watching experience high definition sets everywhere many new models lcd liquid crystal display tvs launched dvr capability built instead external boxes one example launched show humax inch lcd hour tivo dvr dvd recorder one biggest satellite companies directtv even launched branded dvr show hours recording capability instant replay search function set pause rewind hours microsoft chief bill gates announced pre show keynote speech partnership tivo called tivotogo means people play recorded programmes windows pcs mobile devices reflect increasing trend freeing multimedia people watch want want'"
            ]
          },
          "metadata": {
            "tags": []
          },
          "execution_count": 12
        }
      ]
    },
    {
      "cell_type": "code",
      "metadata": {
        "id": "Q5Zo1BvKrnoI"
      },
      "source": [
        "tokenizer=Tokenizer(num_words=vocab_size,oov_token=oov_token)\r\n",
        "tokenizer.fit_on_texts(filtered_sent)  #fitting the tokenizer into text"
      ],
      "execution_count": 13,
      "outputs": []
    },
    {
      "cell_type": "code",
      "metadata": {
        "id": "QYkS_KDc5ewQ"
      },
      "source": [
        "encoded_X_train=tokenizer.texts_to_sequences(X_train)\r\n",
        "encoded_X_test=tokenizer.texts_to_sequences(X_test)\r\n",
        "encoded_X_train[0]"
      ],
      "execution_count": null,
      "outputs": []
    },
    {
      "cell_type": "code",
      "metadata": {
        "colab": {
          "base_uri": "https://localhost:8080/"
        },
        "id": "-uTPRsIKrny5",
        "outputId": "3f157a87-cfc0-4ae1-b489-fca5eaa9a6ba"
      },
      "source": [
        "padded_X_train=pad_sequences(encoded_X_train,maxlen=len_sent,padding=\"post\")\r\n",
        "padded_X_test=pad_sequences(encoded_X_test,maxlen=len_sent,padding=\"post\")\r\n",
        "padded_X_train.shape"
      ],
      "execution_count": 15,
      "outputs": [
        {
          "output_type": "execute_result",
          "data": {
            "text/plain": [
              "(1780, 800)"
            ]
          },
          "metadata": {
            "tags": []
          },
          "execution_count": 15
        }
      ]
    },
    {
      "cell_type": "code",
      "metadata": {
        "id": "5cz52rKhCayY"
      },
      "source": [
        "label_tokenizer=Tokenizer()\r\n",
        "label_tokenizer.fit_on_texts(labels)\r\n",
        "encoded_Y_train=label_tokenizer.texts_to_sequences(Y_train)\r\n",
        "encoded_Y_test=label_tokenizer.texts_to_sequences(Y_test)"
      ],
      "execution_count": 16,
      "outputs": []
    },
    {
      "cell_type": "code",
      "metadata": {
        "id": "CQVuF8ZeD65x",
        "outputId": "4293ed4b-db33-4aa9-acac-b55f2511377a",
        "colab": {
          "base_uri": "https://localhost:8080/"
        }
      },
      "source": [
        "encoded_Y_train.shape"
      ],
      "execution_count": 22,
      "outputs": [
        {
          "output_type": "execute_result",
          "data": {
            "text/plain": [
              "(1780, 1)"
            ]
          },
          "metadata": {
            "tags": []
          },
          "execution_count": 22
        }
      ]
    },
    {
      "cell_type": "code",
      "metadata": {
        "id": "Zs71Y5XyP_SA"
      },
      "source": [
        "import numpy as np\r\n",
        "import tensorflow as tf\r\n",
        "encoded_Y_train=np.array(encoded_Y_train).reshape(-1,1)\r\n",
        "encoded_Y_test=np.array(encoded_Y_test).reshape(-1,1)"
      ],
      "execution_count": 18,
      "outputs": []
    },
    {
      "cell_type": "markdown",
      "metadata": {
        "id": "9tL61Nge8OFg"
      },
      "source": [
        "## Creating the lstm layers  and applying  bi-directional lstm"
      ]
    },
    {
      "cell_type": "code",
      "metadata": {
        "colab": {
          "base_uri": "https://localhost:8080/"
        },
        "id": "xh3xGXRa76ju",
        "outputId": "8d8c6987-6b6e-4fe2-8617-75d199bad48a"
      },
      "source": [
        "model=Sequential()\r\n",
        "model.add(Embedding(vocab_size,output_dim=50,input_length=len_sent))\r\n",
        "model.add(Dropout(0.3))\r\n",
        "model.add(Bidirectional(LSTM(50,return_sequences=True)))\r\n",
        "model.add(Bidirectional(LSTM(50,return_sequences=True)))\r\n",
        "model.add(Bidirectional(LSTM(50,return_sequences=False)))\r\n",
        "model.add(Dropout(0.3))\r\n",
        "model.add(Dense(6,activation=\"softmax\"))\r\n",
        "model.summary()"
      ],
      "execution_count": 24,
      "outputs": [
        {
          "output_type": "stream",
          "text": [
            "Model: \"sequential_1\"\n",
            "_________________________________________________________________\n",
            "Layer (type)                 Output Shape              Param #   \n",
            "=================================================================\n",
            "embedding_1 (Embedding)      (None, 800, 50)           250000    \n",
            "_________________________________________________________________\n",
            "dropout_2 (Dropout)          (None, 800, 50)           0         \n",
            "_________________________________________________________________\n",
            "bidirectional_3 (Bidirection (None, 800, 100)          40400     \n",
            "_________________________________________________________________\n",
            "bidirectional_4 (Bidirection (None, 800, 100)          60400     \n",
            "_________________________________________________________________\n",
            "bidirectional_5 (Bidirection (None, 100)               60400     \n",
            "_________________________________________________________________\n",
            "dropout_3 (Dropout)          (None, 100)               0         \n",
            "_________________________________________________________________\n",
            "dense_1 (Dense)              (None, 6)                 606       \n",
            "=================================================================\n",
            "Total params: 411,806\n",
            "Trainable params: 411,806\n",
            "Non-trainable params: 0\n",
            "_________________________________________________________________\n"
          ],
          "name": "stdout"
        }
      ]
    },
    {
      "cell_type": "code",
      "metadata": {
        "id": "VlVYXrFK9gj4"
      },
      "source": [
        "model.compile(loss=[\"sparse_categorical_crossentropy\"],optimizer=\"adam\",metrics=[\"accuracy\"])"
      ],
      "execution_count": 27,
      "outputs": []
    },
    {
      "cell_type": "code",
      "metadata": {
        "colab": {
          "base_uri": "https://localhost:8080/"
        },
        "id": "fP5oD1CQ9vGX",
        "outputId": "9213c9e0-0d46-4e7a-b134-6b17a9afc57a"
      },
      "source": [
        "model.fit(x=padded_X_train,y=encoded_Y_train,validation_data=(padded_X_test,encoded_Y_test),epochs=10,batch_size=50,verbose=1)"
      ],
      "execution_count": 28,
      "outputs": [
        {
          "output_type": "stream",
          "text": [
            "Epoch 1/10\n",
            "36/36 [==============================] - 120s 3s/step - loss: 1.6963 - accuracy: 0.2235 - val_loss: 1.2221 - val_accuracy: 0.4494\n",
            "Epoch 2/10\n",
            "36/36 [==============================] - 107s 3s/step - loss: 1.0056 - accuracy: 0.5735 - val_loss: 0.6708 - val_accuracy: 0.7596\n",
            "Epoch 3/10\n",
            "36/36 [==============================] - 108s 3s/step - loss: 0.4356 - accuracy: 0.8174 - val_loss: 0.3643 - val_accuracy: 0.9034\n",
            "Epoch 4/10\n",
            "36/36 [==============================] - 107s 3s/step - loss: 0.2173 - accuracy: 0.9446 - val_loss: 0.3022 - val_accuracy: 0.9034\n",
            "Epoch 5/10\n",
            "36/36 [==============================] - 107s 3s/step - loss: 0.1299 - accuracy: 0.9727 - val_loss: 0.3045 - val_accuracy: 0.9169\n",
            "Epoch 6/10\n",
            "36/36 [==============================] - 107s 3s/step - loss: 0.0482 - accuracy: 0.9961 - val_loss: 0.2984 - val_accuracy: 0.9258\n",
            "Epoch 7/10\n",
            "36/36 [==============================] - 107s 3s/step - loss: 0.0345 - accuracy: 0.9957 - val_loss: 0.3094 - val_accuracy: 0.9236\n",
            "Epoch 8/10\n",
            "36/36 [==============================] - 106s 3s/step - loss: 0.0326 - accuracy: 0.9948 - val_loss: 0.3875 - val_accuracy: 0.9011\n",
            "Epoch 9/10\n",
            "36/36 [==============================] - 107s 3s/step - loss: 0.0211 - accuracy: 0.9991 - val_loss: 0.3577 - val_accuracy: 0.9169\n",
            "Epoch 10/10\n",
            "36/36 [==============================] - 106s 3s/step - loss: 0.0112 - accuracy: 0.9998 - val_loss: 0.3660 - val_accuracy: 0.9213\n"
          ],
          "name": "stdout"
        },
        {
          "output_type": "execute_result",
          "data": {
            "text/plain": [
              "<tensorflow.python.keras.callbacks.History at 0x7f20fcdcd518>"
            ]
          },
          "metadata": {
            "tags": []
          },
          "execution_count": 28
        }
      ]
    },
    {
      "cell_type": "code",
      "metadata": {
        "colab": {
          "base_uri": "https://localhost:8080/"
        },
        "id": "TJAZsCt5FRXu",
        "outputId": "27047f82-fdf9-4d11-bda9-eb52c37c620e"
      },
      "source": [
        "predicted=model.predict_classes(padded_X_test)\r\n",
        "predicted[0]"
      ],
      "execution_count": 32,
      "outputs": [
        {
          "output_type": "stream",
          "text": [
            "/usr/local/lib/python3.6/dist-packages/tensorflow/python/keras/engine/sequential.py:450: UserWarning: `model.predict_classes()` is deprecated and will be removed after 2021-01-01. Please use instead:* `np.argmax(model.predict(x), axis=-1)`,   if your model does multi-class classification   (e.g. if it uses a `softmax` last-layer activation).* `(model.predict(x) > 0.5).astype(\"int32\")`,   if your model does binary classification   (e.g. if it uses a `sigmoid` last-layer activation).\n",
            "  warnings.warn('`model.predict_classes()` is deprecated and '\n"
          ],
          "name": "stderr"
        },
        {
          "output_type": "execute_result",
          "data": {
            "text/plain": [
              "5"
            ]
          },
          "metadata": {
            "tags": []
          },
          "execution_count": 32
        }
      ]
    },
    {
      "cell_type": "code",
      "metadata": {
        "id": "oe7rTegbKWiV",
        "outputId": "a0e25355-dfb6-40a5-94e4-312193b77e87",
        "colab": {
          "base_uri": "https://localhost:8080/"
        }
      },
      "source": [
        "from sklearn.metrics import accuracy_score,confusion_matrix\r\n",
        "from sklearn import metrics\r\n",
        "import scikitplot as splt\r\n",
        "print(accuracy_score(predicted,encoded_Y_test))"
      ],
      "execution_count": 35,
      "outputs": [
        {
          "output_type": "stream",
          "text": [
            "0.9213483146067416\n"
          ],
          "name": "stdout"
        }
      ]
    },
    {
      "cell_type": "markdown",
      "metadata": {
        "id": "PY1ahL8QLFc3"
      },
      "source": [
        "#### 92.13% accuracy this quite good enough for our prediction"
      ]
    },
    {
      "cell_type": "code",
      "metadata": {
        "id": "YFA3wGwsK_gm",
        "outputId": "c71d9d53-1c2f-402d-fc13-e7dfaab2aa15",
        "colab": {
          "base_uri": "https://localhost:8080/",
          "height": 518
        }
      },
      "source": [
        "import matplotlib.pyplot as plt\r\n",
        "import seaborn as sns\r\n",
        "splt.metrics.plot_confusion_matrix(predicted,encoded_Y_test,figsize=(10,8),text_fontsize=\"large\")\r\n",
        "plt.show()"
      ],
      "execution_count": 38,
      "outputs": [
        {
          "output_type": "display_data",
          "data": {
            "image/png": "[encoded data removed]",
            "text/plain": [
              "<Figure size 720x576 with 2 Axes>"
            ]
          },
          "metadata": {
            "tags": [],
            "needs_background": "light"
          }
        }
      ]
    },
    {
      "cell_type": "code",
      "metadata": {
        "id": "Z0uY454MLxVr"
      },
      "source": [
        "# predicting for any kind of text data\r\n",
        "def predict(data):\r\n",
        "  list1=['None','business', 'entertainment', 'politics', 'sport', 'tech']\r\n",
        "  data=tokenizer.texts_to_sequences(data)\r\n",
        "  data=pad_sequences(data,maxlen=250,padding=\"post\")\r\n",
        "  index=model.predict(data)\r\n",
        "  predicted=list1[np.argmax(index)]\r\n",
        "  return predicted"
      ],
      "execution_count": 59,
      "outputs": []
    },
    {
      "cell_type": "code",
      "metadata": {
        "id": "-F-kUL18MxnS"
      },
      "source": [
        "#let's do predicted using various data"
      ],
      "execution_count": 68,
      "outputs": []
    },
    {
      "cell_type": "code",
      "metadata": {
        "id": "GWjlKyMsPpo5",
        "outputId": "9594b1a6-a0fe-480b-acb9-9829fcd6d9da",
        "colab": {
          "base_uri": "https://localhost:8080/",
          "height": 35
        }
      },
      "source": [
        "predict([\"A spectacular Projection Mapping show underway at the Victoria Memorial. This show traces the exemplary life of Netaji Subhas Bose\"])"
      ],
      "execution_count": 63,
      "outputs": [
        {
          "output_type": "execute_result",
          "data": {
            "application/vnd.google.colaboratory.intrinsic+json": {
              "type": "string"
            },
            "text/plain": [
              "'entertainment'"
            ]
          },
          "metadata": {
            "tags": []
          },
          "execution_count": 63
        }
      ]
    },
    {
      "cell_type": "code",
      "metadata": {
        "id": "d46n6iwyRwAl"
      },
      "source": [
        ""
      ],
      "execution_count": null,
      "outputs": []
    }
  ]
}